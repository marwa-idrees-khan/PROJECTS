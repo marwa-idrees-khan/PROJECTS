{
 "cells": [
  {
   "cell_type": "markdown",
   "id": "bfadbce4-51eb-48a5-9d0f-d09d9025f12c",
   "metadata": {},
   "source": [
    "***>>>Identify if two word are similar or not    :)***"
   ]
  },
  {
   "cell_type": "code",
   "execution_count": 2,
   "id": "68899b50-08f5-454a-9077-d970669fe2c2",
   "metadata": {},
   "outputs": [],
   "source": [
    "from nltk.corpus import wordnet\n",
    "import nltk\n",
    "from nltk.tokenize import PunktSentenceTokenizer\n",
    "from nltk import ne_chunk"
   ]
  },
  {
   "cell_type": "code",
   "execution_count": 3,
   "id": "3bb640cf-7dcf-4e4a-a722-c9cbbf18d45b",
   "metadata": {},
   "outputs": [
    {
     "name": "stderr",
     "output_type": "stream",
     "text": [
      "[nltk_data] Downloading package wordnet to\n",
      "[nltk_data]     C:\\Users\\ANQ\\AppData\\Roaming\\nltk_data...\n",
      "[nltk_data]   Package wordnet is already up-to-date!\n"
     ]
    },
    {
     "data": {
      "text/plain": [
       "True"
      ]
     },
     "execution_count": 3,
     "metadata": {},
     "output_type": "execute_result"
    }
   ],
   "source": [
    "import nltk\n",
    "nltk.download('wordnet')"
   ]
  },
  {
   "cell_type": "code",
   "execution_count": 5,
   "id": "26fbc80a-fecc-49cf-a71a-e4e4d1733a66",
   "metadata": {},
   "outputs": [
    {
     "name": "stderr",
     "output_type": "stream",
     "text": [
      "[nltk_data] Downloading package punkt_tab to\n",
      "[nltk_data]     C:\\Users\\ANQ\\AppData\\Roaming\\nltk_data...\n",
      "[nltk_data]   Package punkt_tab is already up-to-date!\n",
      "[nltk_data] Downloading package averaged_perceptron_tagger_eng to\n",
      "[nltk_data]     C:\\Users\\ANQ\\AppData\\Roaming\\nltk_data...\n",
      "[nltk_data]   Package averaged_perceptron_tagger_eng is already up-to-\n",
      "[nltk_data]       date!\n"
     ]
    },
    {
     "data": {
      "text/plain": [
       "True"
      ]
     },
     "execution_count": 5,
     "metadata": {},
     "output_type": "execute_result"
    }
   ],
   "source": [
    "nltk.download('punkt_tab')\n",
    "nltk.download('averaged_perceptron_tagger_eng')"
   ]
  },
  {
   "cell_type": "code",
   "execution_count": 6,
   "id": "3cea9e0b-194d-4d51-9fdd-6f71a4fa0cdc",
   "metadata": {},
   "outputs": [],
   "source": [
    "s1=wordnet.synsets('hello')[0]\n",
    "s2=wordnet.synsets('anu')[0]     # synsets cheacks if both are synonoms or antonoms"
   ]
  },
  {
   "cell_type": "code",
   "execution_count": 16,
   "id": "dab95a83-a319-4058-9579-a3e60841bb04",
   "metadata": {},
   "outputs": [
    {
     "data": {
      "text/plain": [
       "'hello.n.01'"
      ]
     },
     "execution_count": 16,
     "metadata": {},
     "output_type": "execute_result"
    }
   ],
   "source": [
    "s1.name()"
   ]
  },
  {
   "cell_type": "code",
   "execution_count": 17,
   "id": "8aeedede-5a46-4197-b4e3-d326e1405afd",
   "metadata": {},
   "outputs": [
    {
     "data": {
      "text/plain": [
       "'anu.n.01'"
      ]
     },
     "execution_count": 17,
     "metadata": {},
     "output_type": "execute_result"
    }
   ],
   "source": [
    "s2.name"
   ]
  },
  {
   "cell_type": "code",
   "execution_count": 7,
   "id": "449c7b49-5654-49a3-b4f1-23cae7018e55",
   "metadata": {},
   "outputs": [
    {
     "data": {
      "text/plain": [
       "0.23529411764705882"
      ]
     },
     "execution_count": 7,
     "metadata": {},
     "output_type": "execute_result"
    }
   ],
   "source": [
    "sim=s1.wup_similarity(s2)     # cheaking similarity\n",
    "sim"
   ]
  },
  {
   "cell_type": "markdown",
   "id": "2073185e-e908-447b-b2ae-d21a89bbad71",
   "metadata": {},
   "source": [
    "finding synonyms and antonyms of a word"
   ]
  },
  {
   "cell_type": "code",
   "execution_count": 8,
   "id": "9a9ce152-b75e-4006-8872-be28e46af8ce",
   "metadata": {},
   "outputs": [
    {
     "name": "stdout",
     "output_type": "stream",
     "text": [
      "{'distressing', 'deplorable', 'pitiful', 'sad', 'lamentable', 'sorry'}\n"
     ]
    }
   ],
   "source": [
    "synonyms=[]\n",
    "\n",
    "for syn in wordnet.synsets(\"sad\"):\n",
    "    for i in syn.lemmas():\n",
    "        synonyms.append(i.name())\n",
    "\n",
    "print(set(synonyms))\n"
   ]
  },
  {
   "cell_type": "code",
   "execution_count": 9,
   "id": "87a77fc2-98d2-427b-94b4-4c3fb827dea3",
   "metadata": {},
   "outputs": [
    {
     "name": "stdout",
     "output_type": "stream",
     "text": [
      "{'hate'}\n"
     ]
    }
   ],
   "source": [
    "antonyms=[]\n",
    "for syn in wordnet.synsets(\"love\"):\n",
    "    for i in syn.lemmas():\n",
    "        if i.antonyms():\n",
    "           antonyms.append(i.antonyms()[0].name())\n",
    "         \n",
    "\n",
    "print(set(antonyms))"
   ]
  }
 ],
 "metadata": {
  "kernelspec": {
   "display_name": "Python 3 (ipykernel)",
   "language": "python",
   "name": "python3"
  },
  "language_info": {
   "codemirror_mode": {
    "name": "ipython",
    "version": 3
   },
   "file_extension": ".py",
   "mimetype": "text/x-python",
   "name": "python",
   "nbconvert_exporter": "python",
   "pygments_lexer": "ipython3",
   "version": "3.12.4"
  }
 },
 "nbformat": 4,
 "nbformat_minor": 5
}
