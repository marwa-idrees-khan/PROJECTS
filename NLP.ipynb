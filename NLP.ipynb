{
 "cells": [
  {
   "cell_type": "code",
   "execution_count": 65,
   "id": "4e092876-75b1-458d-8222-821839deecdf",
   "metadata": {},
   "outputs": [],
   "source": [
    "import nltk\n",
    "from nltk.tokenize import PunktSentenceTokenizer\n",
    "from nltk import ne_chunk\n"
   ]
  },
  {
   "cell_type": "code",
   "execution_count": 6,
   "id": "eedf3b4a-f7fe-4d5b-8eca-143e38acad5e",
   "metadata": {},
   "outputs": [],
   "source": [
    "chunks=[]"
   ]
  },
  {
   "cell_type": "code",
   "execution_count": 97,
   "id": "0928b975-f38d-4dbf-8108-7da8090fdbad",
   "metadata": {},
   "outputs": [
    {
     "name": "stdin",
     "output_type": "stream",
     "text": [
      "enter your string here: My freind Anmol is living in Islamabad.\n"
     ]
    },
    {
     "name": "stdout",
     "output_type": "stream",
     "text": [
      "My freind Anmol is living in Islamabad.\n"
     ]
    }
   ],
   "source": [
    "# taking the input sentence here\n",
    "sen=input(\"enter your string here:\")\n",
    "print(sen)"
   ]
  },
  {
   "cell_type": "code",
   "execution_count": 98,
   "id": "54f30a58-5f9d-4084-9b44-cd73a035cb0b",
   "metadata": {},
   "outputs": [],
   "source": [
    "#calling the tokenizer\n",
    "custom_sent_tokenizer=PunktSentenceTokenizer(sen)\n",
    "tokenized=custom_sent_tokenizer.tokenize(sen)"
   ]
  },
  {
   "cell_type": "code",
   "execution_count": 99,
   "id": "f64d16fc-162a-4313-a8c0-7ebcf59ba4b6",
   "metadata": {},
   "outputs": [
    {
     "name": "stdout",
     "output_type": "stream",
     "text": [
      "['My freind Anmol is living in Islamabad.']\n"
     ]
    }
   ],
   "source": [
    "print(tokenized)"
   ]
  },
  {
   "cell_type": "code",
   "execution_count": 100,
   "id": "283de049-f37f-4b53-816f-cb1eb433b219",
   "metadata": {},
   "outputs": [
    {
     "name": "stdout",
     "output_type": "stream",
     "text": [
      "[('My', 'PRP$'), ('freind', 'NN'), ('Anmol', 'NNP'), ('is', 'VBZ'), ('living', 'VBG'), ('in', 'IN'), ('Islamabad', 'NNP'), ('.', '.')]\n"
     ]
    },
    {
     "name": "stderr",
     "output_type": "stream",
     "text": [
      "[nltk_data] Downloading package punkt_tab to\n",
      "[nltk_data]     C:\\Users\\ANQ\\AppData\\Roaming\\nltk_data...\n",
      "[nltk_data]   Package punkt_tab is already up-to-date!\n",
      "[nltk_data] Downloading package averaged_perceptron_tagger_eng to\n",
      "[nltk_data]     C:\\Users\\ANQ\\AppData\\Roaming\\nltk_data...\n",
      "[nltk_data]   Package averaged_perceptron_tagger_eng is already up-to-\n",
      "[nltk_data]       date!\n"
     ]
    }
   ],
   "source": [
    "import nltk\n",
    "nltk.download('punkt_tab')\n",
    "nltk.download('averaged_perceptron_tagger_eng')\n",
    "\n",
    "for i in tokenized:\n",
    "    words =nltk.word_tokenize(i)         # word_tokenize divide sentemce in words \n",
    "    tagged=nltk.pos_tag(words)           # pos_tagged tells us about part of speech (i.e verbs , preposition etc)\n",
    "    print(tagged)\n"
   ]
  },
  {
   "cell_type": "code",
   "execution_count": 101,
   "id": "589b00a8-e32c-4a08-b9ae-6fa943a8b99a",
   "metadata": {},
   "outputs": [],
   "source": [
    "# namedEnt = nltk.ne chunk(tagged)\n",
    "# print(namedEnt)\n",
    "# lets try to group these by using chunking procedure\n",
    "\n",
    "ChunkGram=r\"\"\"                                                                   #r is reserved word and \" is part of syntax of chunking,chunkgram--chunkgrammer\n",
    "          Chunk:\n",
    "          {<NN><NNP>|<NN><NN>|<NN><NNS>|<NNP><NNP>|<NNS><NNP>|<NNS><NNS>?}       # | represents OR \n",
    "          {<NN|NNP|NNS>?}                                                        # NN represents noun with noun similarly NNP is noun with proper noun\n",
    "          {<IN>}                                                                 #IN--preposition\n",
    "          {<VBZ><DT>}                                                            #VBZ--verb, DT---determinant\n",
    "\n",
    "          \"\"\"\n",
    "\n",
    "#ChunkGram =r\"\"\"{<.*>+}\n",
    "#               {<VBP>+<VBG>?}\n",
    "#          \"\"\"\n"
   ]
  },
  {
   "cell_type": "code",
   "execution_count": 102,
   "id": "1ff95bba-8514-4132-b481-8b98961cac95",
   "metadata": {},
   "outputs": [
    {
     "name": "stdout",
     "output_type": "stream",
     "text": [
      "(S\n",
      "  My/PRP$\n",
      "  (Chunk freind/NN Anmol/NNP)\n",
      "  is/VBZ\n",
      "  living/VBG\n",
      "  (Chunk in/IN)\n",
      "  (Chunk Islamabad/NNP)\n",
      "  ./.)\n",
      "hi ['freind', 'freind Anmol']\n",
      "(S\n",
      "  My/PRP$\n",
      "  (Chunk freind/NN Anmol/NNP)\n",
      "  is/VBZ\n",
      "  living/VBG\n",
      "  (Chunk in/IN)\n",
      "  (Chunk Islamabad/NNP)\n",
      "  ./.)\n",
      "hi ['freind', 'freind Anmol', 'in']\n",
      "(S\n",
      "  My/PRP$\n",
      "  (Chunk freind/NN Anmol/NNP)\n",
      "  is/VBZ\n",
      "  living/VBG\n",
      "  (Chunk in/IN)\n",
      "  (Chunk Islamabad/NNP)\n",
      "  ./.)\n",
      "hi ['freind', 'freind Anmol', 'in', 'Islamabad']\n"
     ]
    }
   ],
   "source": [
    "ChunkParser = nltk.RegexpParser(ChunkGram)\n",
    "#chunkparser =nltk.ProjectiveDependencyParser(chunkGram)  #another in-built function\n",
    "chunked = ChunkParser.parse(tagged)\n",
    "chunks=[]\n",
    "\n",
    "for subtree in chunked.subtrees(filter=lambda t:t.label()=='Chunk'):    # ':' means assigning\n",
    "    chunk=\"\"\n",
    "    for leave in subtree.leaves():\n",
    "        chunk +=leave[0]+' '\n",
    "        chunks.append(chunk.strip())                            #strip remove any comma , colon etc\n",
    "    print(chunked)\n",
    "    print(\"hi\",chunks)\n"
   ]
  },
  {
   "cell_type": "code",
   "execution_count": 105,
   "id": "ab05e211-7231-42f2-afed-58a0c4060774",
   "metadata": {},
   "outputs": [
    {
     "name": "stdout",
     "output_type": "stream",
     "text": [
      "['freind']\n"
     ]
    }
   ],
   "source": [
    "\n",
    "finalchunks=[]\n",
    "finalnoun=[]\n",
    "for idx, item in enumerate(chunks[:-1]):\n",
    "    if(item in chunks[idx+1]):\n",
    "        finalchunks.append(item)\n",
    "print(finalchunks)        "
   ]
  },
  {
   "cell_type": "code",
   "execution_count": 106,
   "id": "8ea1e436-d9b0-4b04-ae6d-1652365ba679",
   "metadata": {},
   "outputs": [
    {
     "name": "stdout",
     "output_type": "stream",
     "text": [
      "final noun phrase extracted from parser ['freind Anmol', 'in', 'Islamabad']\n"
     ]
    }
   ],
   "source": [
    "# for elememnts in remnoun\n",
    "#  if ( element!=\"):\n",
    "#     singlenoun.append(element)\n",
    "\n",
    "\n",
    "for i in chunks:\n",
    "    if i not in finalchunks:\n",
    "        finalnoun.append(i)\n",
    "print(\"final noun phrase extracted from parser\",finalnoun)\n"
   ]
  },
  {
   "cell_type": "code",
   "execution_count": null,
   "id": "f3f59b25-5851-4cd7-8a73-d7144f91b324",
   "metadata": {},
   "outputs": [],
   "source": []
  }
 ],
 "metadata": {
  "kernelspec": {
   "display_name": "Python 3 (ipykernel)",
   "language": "python",
   "name": "python3"
  },
  "language_info": {
   "codemirror_mode": {
    "name": "ipython",
    "version": 3
   },
   "file_extension": ".py",
   "mimetype": "text/x-python",
   "name": "python",
   "nbconvert_exporter": "python",
   "pygments_lexer": "ipython3",
   "version": "3.12.4"
  }
 },
 "nbformat": 4,
 "nbformat_minor": 5
}
