{
 "cells": [
  {
   "cell_type": "code",
   "execution_count": 1,
   "id": "9f5f9970-90ce-4f64-bdb6-1082fe404ef9",
   "metadata": {},
   "outputs": [],
   "source": [
    "from nltk.stem import PorterStemmer\n",
    "from nltk.tokenize import word_tokenize"
   ]
  },
  {
   "cell_type": "code",
   "execution_count": 3,
   "id": "40ac67e5-2cd4-4dfc-8e1e-613cb4420420",
   "metadata": {},
   "outputs": [],
   "source": [
    "ps = PorterStemmer()"
   ]
  },
  {
   "cell_type": "code",
   "execution_count": 4,
   "id": "b554791b-69d9-46bb-accd-b0fda111cec6",
   "metadata": {},
   "outputs": [],
   "source": [
    "#choose some words to be stemmed\n",
    "words = [\"program\",\"programs\",\"programmer\",\"programming\",\"programmers\"]"
   ]
  },
  {
   "cell_type": "code",
   "execution_count": 5,
   "id": "34a06355-8418-424b-842f-9d5ee5e4790e",
   "metadata": {},
   "outputs": [
    {
     "name": "stdout",
     "output_type": "stream",
     "text": [
      "program  :  program\n",
      "programs  :  program\n",
      "programmer  :  programm\n",
      "programming  :  program\n",
      "programmers  :  programm\n"
     ]
    }
   ],
   "source": [
    "for w in words:\n",
    "    print(w,\" : \",ps.stem(w))\n",
    "    "
   ]
  },
  {
   "cell_type": "code",
   "execution_count": 11,
   "id": "8a8622e9-4ccf-4af8-922d-32d921ad4242",
   "metadata": {},
   "outputs": [
    {
     "name": "stdout",
     "output_type": "stream",
     "text": [
      "hi Programmers  :  programm\n",
      "hi program  :  program\n",
      "hi with  :  with\n",
      "hi programming  :  program\n",
      "hi languages  :  languag\n"
     ]
    }
   ],
   "source": [
    "for w in words:\n",
    "    \n",
    "    print('hi',w, \" : \",ps.stem(w))         "
   ]
  },
  {
   "cell_type": "code",
   "execution_count": 15,
   "id": "16016432-b8cf-4125-9fcf-82c45ebbfb08",
   "metadata": {},
   "outputs": [],
   "source": [
    "# steming using reduce funtoot\n",
    "from functools import reduce \n"
   ]
  },
  {
   "cell_type": "code",
   "execution_count": 6,
   "id": "e27fcb77-6223-427b-b757-6435dc6475d1",
   "metadata": {},
   "outputs": [],
   "source": [
    "sentence=\"Programmers program with programming languages\"\n",
    "words = word_tokenize(sentence)              #every sentence must be tokenized"
   ]
  },
  {
   "cell_type": "code",
   "execution_count": 17,
   "id": "5e1ca8f2-fea1-4c1e-b5bd-3279819ea981",
   "metadata": {},
   "outputs": [
    {
     "data": {
      "text/plain": [
       "'  programm program with program languag'"
      ]
     },
     "execution_count": 17,
     "metadata": {},
     "output_type": "execute_result"
    }
   ],
   "source": [
    "stemmed_sen=reduce(lambda x , y:x+\" \" + ps.stem(y),words,\" \")\n",
    "stemmed_sen"
   ]
  },
  {
   "cell_type": "code",
   "execution_count": 18,
   "id": "638cf732-ffff-488b-a7d0-4d5143fd5528",
   "metadata": {},
   "outputs": [],
   "source": [
    "islo= \"Islamabad has attracted people from all over Pakistan, making it one of the most cosmopolitan and urbanised cities of Pakistan. As the capital city it has hosted numerous important meetings, such as the South Asian Association for Regional Cooperation summit in 2004.\""
   ]
  },
  {
   "cell_type": "code",
   "execution_count": 24,
   "id": "74f4d42a-f8af-4567-bbf5-49c5db4a23b7",
   "metadata": {},
   "outputs": [
    {
     "data": {
      "text/plain": [
       "'  i s l a m a b a d   h a s   a t t r a c t e d   p e o p l e   f r o m   a l l   o v e r   p a k i s t a n ,   m a k i n g   i t   o n e   o f   t h e   m o s t   c o s m o p o l i t a n   a n d   u r b a n i s e d   c i t i e s   o f   p a k i s t a n .   a s   t h e   c a p i t a l   c i t y   i t   h a s   h o s t e d   n u m e r o u s   i m p o r t a n t   m e e t i n g s ,   s u c h   a s   t h e   s o u t h   a s i a n   a s s o c i a t i o n   f o r   r e g i o n a l   c o o p e r a t i o n   s u m m i t   i n   2 0 0 4 .'"
      ]
     },
     "execution_count": 24,
     "metadata": {},
     "output_type": "execute_result"
    }
   ],
   "source": [
    "words = word_tokenize(islo)\n",
    "stemmed_sen1=reduce(lambda x , y:x+\" \" + ps.stem(y),islo,\" \")\n",
    "stemmed_sen1"
   ]
  }
 ],
 "metadata": {
  "kernelspec": {
   "display_name": "Python 3 (ipykernel)",
   "language": "python",
   "name": "python3"
  },
  "language_info": {
   "codemirror_mode": {
    "name": "ipython",
    "version": 3
   },
   "file_extension": ".py",
   "mimetype": "text/x-python",
   "name": "python",
   "nbconvert_exporter": "python",
   "pygments_lexer": "ipython3",
   "version": "3.12.4"
  }
 },
 "nbformat": 4,
 "nbformat_minor": 5
}
